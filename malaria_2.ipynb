{
  "nbformat": 4,
  "nbformat_minor": 0,
  "metadata": {
    "colab": {
      "name": "malaria_2.ipynb",
      "provenance": [],
      "collapsed_sections": []
    },
    "kernelspec": {
      "name": "python3",
      "display_name": "Python 3"
    },
    "language_info": {
      "name": "python"
    },
    "accelerator": "GPU"
  },
  "cells": [
    {
      "cell_type": "code",
      "source": [
        "# import the libraries as shown below\n",
        "\n",
        "from keras.layers import Input, Lambda, Dense, Flatten\n",
        "from keras.models import Model\n",
        "#from keras.applications.resnet50 import ResNet50\n",
        "from keras.applications.vgg16 import VGG16\n",
        "from keras.applications.vgg16 import preprocess_input\n",
        "from keras.preprocessing import image\n",
        "from keras.preprocessing.image import ImageDataGenerator\n",
        "from keras.models import Sequential\n",
        "import numpy as np\n",
        "from glob import glob\n",
        "import matplotlib.pyplot as plt"
      ],
      "metadata": {
        "id": "ctFnL5l-B69M"
      },
      "execution_count": null,
      "outputs": []
    },
    {
      "cell_type": "code",
      "source": [
        "# re-size all the images to this\n",
        "IMAGE_SIZE = [224, 224]\n",
        "\n",
        "train_path = '/content/drive/MyDrive/Malaria_Detection/Dataset/Train'\n",
        "valid_path = '/content/drive/MyDrive/Malaria_Detection/Dataset/Test'"
      ],
      "metadata": {
        "id": "Dy3A7LTzC0Eu"
      },
      "execution_count": null,
      "outputs": []
    },
    {
      "cell_type": "code",
      "source": [
        "\n",
        "# Import the Vgg 16 library as shown below and add preprocessing layer to the front of VGG\n",
        "# Here we will be using imagenet weights\n",
        "\n",
        "vgg = VGG16(input_shape=IMAGE_SIZE + [3], weights='imagenet', include_top=False)"
      ],
      "metadata": {
        "colab": {
          "base_uri": "https://localhost:8080/"
        },
        "id": "8_9jET9KC_Bt",
        "outputId": "6ca585bd-4b73-4781-99fb-24c7d41eeecd"
      },
      "execution_count": null,
      "outputs": [
        {
          "output_type": "stream",
          "name": "stdout",
          "text": [
            "Downloading data from https://storage.googleapis.com/tensorflow/keras-applications/vgg16/vgg16_weights_tf_dim_ordering_tf_kernels_notop.h5\n",
            "58892288/58889256 [==============================] - 1s 0us/step\n",
            "58900480/58889256 [==============================] - 1s 0us/step\n"
          ]
        }
      ]
    },
    {
      "cell_type": "code",
      "source": [
        "# don't train existing weights\n",
        "for layer in vgg.layers:\n",
        "    layer.trainable = False"
      ],
      "metadata": {
        "id": "0Ebqm1goDBw8"
      },
      "execution_count": null,
      "outputs": []
    },
    {
      "cell_type": "code",
      "source": [
        "  # useful for getting number of output classes\n",
        "folders = glob('/content/drive/MyDrive/Malaria_Detection/Dataset/Train/*')"
      ],
      "metadata": {
        "id": "qR2l4qd4DK9s"
      },
      "execution_count": null,
      "outputs": []
    },
    {
      "cell_type": "code",
      "source": [
        "# our layers - you can add more if you want\n",
        "x = Flatten()(vgg.output)"
      ],
      "metadata": {
        "id": "g6_Frb6xDTt8"
      },
      "execution_count": null,
      "outputs": []
    },
    {
      "cell_type": "code",
      "source": [
        "prediction = Dense(len(folders), activation='softmax')(x)\n",
        "\n",
        "# create a model object\n",
        "model = Model(inputs=vgg.input, outputs=prediction)"
      ],
      "metadata": {
        "id": "BPwYVxyNDWYc"
      },
      "execution_count": null,
      "outputs": []
    },
    {
      "cell_type": "code",
      "source": [
        "# view the structure of the model\n",
        "model.summary()"
      ],
      "metadata": {
        "colab": {
          "base_uri": "https://localhost:8080/"
        },
        "id": "OX_03GzjDYtM",
        "outputId": "732159df-813c-41b3-ead6-9105c755b0e0"
      },
      "execution_count": null,
      "outputs": [
        {
          "output_type": "stream",
          "name": "stdout",
          "text": [
            "Model: \"model\"\n",
            "_________________________________________________________________\n",
            " Layer (type)                Output Shape              Param #   \n",
            "=================================================================\n",
            " input_1 (InputLayer)        [(None, 224, 224, 3)]     0         \n",
            "                                                                 \n",
            " block1_conv1 (Conv2D)       (None, 224, 224, 64)      1792      \n",
            "                                                                 \n",
            " block1_conv2 (Conv2D)       (None, 224, 224, 64)      36928     \n",
            "                                                                 \n",
            " block1_pool (MaxPooling2D)  (None, 112, 112, 64)      0         \n",
            "                                                                 \n",
            " block2_conv1 (Conv2D)       (None, 112, 112, 128)     73856     \n",
            "                                                                 \n",
            " block2_conv2 (Conv2D)       (None, 112, 112, 128)     147584    \n",
            "                                                                 \n",
            " block2_pool (MaxPooling2D)  (None, 56, 56, 128)       0         \n",
            "                                                                 \n",
            " block3_conv1 (Conv2D)       (None, 56, 56, 256)       295168    \n",
            "                                                                 \n",
            " block3_conv2 (Conv2D)       (None, 56, 56, 256)       590080    \n",
            "                                                                 \n",
            " block3_conv3 (Conv2D)       (None, 56, 56, 256)       590080    \n",
            "                                                                 \n",
            " block3_pool (MaxPooling2D)  (None, 28, 28, 256)       0         \n",
            "                                                                 \n",
            " block4_conv1 (Conv2D)       (None, 28, 28, 512)       1180160   \n",
            "                                                                 \n",
            " block4_conv2 (Conv2D)       (None, 28, 28, 512)       2359808   \n",
            "                                                                 \n",
            " block4_conv3 (Conv2D)       (None, 28, 28, 512)       2359808   \n",
            "                                                                 \n",
            " block4_pool (MaxPooling2D)  (None, 14, 14, 512)       0         \n",
            "                                                                 \n",
            " block5_conv1 (Conv2D)       (None, 14, 14, 512)       2359808   \n",
            "                                                                 \n",
            " block5_conv2 (Conv2D)       (None, 14, 14, 512)       2359808   \n",
            "                                                                 \n",
            " block5_conv3 (Conv2D)       (None, 14, 14, 512)       2359808   \n",
            "                                                                 \n",
            " block5_pool (MaxPooling2D)  (None, 7, 7, 512)         0         \n",
            "                                                                 \n",
            " flatten (Flatten)           (None, 25088)             0         \n",
            "                                                                 \n",
            " dense (Dense)               (None, 2)                 50178     \n",
            "                                                                 \n",
            "=================================================================\n",
            "Total params: 14,764,866\n",
            "Trainable params: 50,178\n",
            "Non-trainable params: 14,714,688\n",
            "_________________________________________________________________\n"
          ]
        }
      ]
    },
    {
      "cell_type": "code",
      "source": [
        "# tell the model what cost and optimization method to use\n",
        "model.compile(\n",
        "  loss='categorical_crossentropy',\n",
        "  optimizer='adam',\n",
        "  metrics=['accuracy']\n",
        ")"
      ],
      "metadata": {
        "id": "Yphmnzv-DaOs"
      },
      "execution_count": null,
      "outputs": []
    },
    {
      "cell_type": "code",
      "source": [
        "# Use the Image Data Generator to import the images from the dataset\n",
        "from keras.preprocessing.image import ImageDataGenerator\n",
        "\n",
        "train_datagen = ImageDataGenerator(rescale = 1./255,\n",
        "                                   shear_range = 0.2,\n",
        "                                   zoom_range = 0.2,\n",
        "                                   horizontal_flip = True)\n",
        "\n",
        "test_datagen = ImageDataGenerator(rescale = 1./255)"
      ],
      "metadata": {
        "id": "s-EnTsLeDdH8"
      },
      "execution_count": null,
      "outputs": []
    },
    {
      "cell_type": "code",
      "source": [
        "# Make sure you provide the same target size as initialied for the image size\n",
        "training_set = train_datagen.flow_from_directory('/content/drive/MyDrive/Malaria_Detection/Dataset/Train',\n",
        "                                                 target_size = (224, 224),\n",
        "                                                 batch_size = 32,\n",
        "                                                 class_mode = 'categorical')"
      ],
      "metadata": {
        "colab": {
          "base_uri": "https://localhost:8080/"
        },
        "id": "xonilR82Dews",
        "outputId": "807ae9f3-6161-400f-d3b6-310966c5f28e"
      },
      "execution_count": null,
      "outputs": [
        {
          "output_type": "stream",
          "name": "stdout",
          "text": [
            "Found 416 images belonging to 2 classes.\n"
          ]
        }
      ]
    },
    {
      "cell_type": "code",
      "source": [
        "test_set = test_datagen.flow_from_directory('/content/drive/MyDrive/Malaria_Detection/Dataset/Test',\n",
        "                                            target_size = (224, 224),\n",
        "                                            batch_size = 32,\n",
        "                                            class_mode = 'categorical')"
      ],
      "metadata": {
        "colab": {
          "base_uri": "https://localhost:8080/"
        },
        "id": "xLZi9dhGDhuc",
        "outputId": "559fe14f-3d04-4dd9-8345-be47574e9cbb"
      },
      "execution_count": null,
      "outputs": [
        {
          "output_type": "stream",
          "name": "stdout",
          "text": [
            "Found 134 images belonging to 2 classes.\n"
          ]
        }
      ]
    },
    {
      "cell_type": "code",
      "source": [
        "# fit the model\n",
        "# Run the cell. It will take some time to execute\n",
        "r = model.fit_generator(\n",
        "  training_set,\n",
        "  validation_data=test_set,\n",
        "  epochs=50,\n",
        "  steps_per_epoch=len(training_set),\n",
        "  validation_steps=len(test_set)\n",
        ")"
      ],
      "metadata": {
        "colab": {
          "base_uri": "https://localhost:8080/"
        },
        "id": "mzG8MxKYDuBM",
        "outputId": "22a6b582-657f-4c3c-fa7e-1d49f4e2d3b8"
      },
      "execution_count": null,
      "outputs": [
        {
          "output_type": "stream",
          "name": "stderr",
          "text": [
            "/usr/local/lib/python3.7/dist-packages/ipykernel_launcher.py:8: UserWarning: `Model.fit_generator` is deprecated and will be removed in a future version. Please use `Model.fit`, which supports generators.\n",
            "  \n"
          ]
        },
        {
          "output_type": "stream",
          "name": "stdout",
          "text": [
            "Epoch 1/50\n",
            "13/13 [==============================] - 95s 6s/step - loss: 1.1062 - accuracy: 0.5697 - val_loss: 0.9790 - val_accuracy: 0.4552\n",
            "Epoch 2/50\n",
            "13/13 [==============================] - 6s 495ms/step - loss: 0.5406 - accuracy: 0.7404 - val_loss: 0.5947 - val_accuracy: 0.6791\n",
            "Epoch 3/50\n",
            "13/13 [==============================] - 6s 486ms/step - loss: 0.4378 - accuracy: 0.7909 - val_loss: 0.5167 - val_accuracy: 0.7388\n",
            "Epoch 4/50\n",
            "13/13 [==============================] - 6s 489ms/step - loss: 0.3386 - accuracy: 0.8534 - val_loss: 0.3755 - val_accuracy: 0.8507\n",
            "Epoch 5/50\n",
            "13/13 [==============================] - 6s 489ms/step - loss: 0.2895 - accuracy: 0.8846 - val_loss: 0.3460 - val_accuracy: 0.8358\n",
            "Epoch 6/50\n",
            "13/13 [==============================] - 7s 528ms/step - loss: 0.2638 - accuracy: 0.8990 - val_loss: 0.7174 - val_accuracy: 0.6343\n",
            "Epoch 7/50\n",
            "13/13 [==============================] - 6s 494ms/step - loss: 0.2375 - accuracy: 0.9135 - val_loss: 0.3655 - val_accuracy: 0.8209\n",
            "Epoch 8/50\n",
            "13/13 [==============================] - 6s 484ms/step - loss: 0.2164 - accuracy: 0.9399 - val_loss: 0.3596 - val_accuracy: 0.8284\n",
            "Epoch 9/50\n",
            "13/13 [==============================] - 6s 491ms/step - loss: 0.2062 - accuracy: 0.9255 - val_loss: 0.2638 - val_accuracy: 0.8955\n",
            "Epoch 10/50\n",
            "13/13 [==============================] - 8s 582ms/step - loss: 0.1997 - accuracy: 0.9255 - val_loss: 0.4007 - val_accuracy: 0.8060\n",
            "Epoch 11/50\n",
            "13/13 [==============================] - 6s 495ms/step - loss: 0.1769 - accuracy: 0.9543 - val_loss: 0.2479 - val_accuracy: 0.9030\n",
            "Epoch 12/50\n",
            "13/13 [==============================] - 6s 495ms/step - loss: 0.1630 - accuracy: 0.9543 - val_loss: 0.2497 - val_accuracy: 0.8881\n",
            "Epoch 13/50\n",
            "13/13 [==============================] - 7s 534ms/step - loss: 0.1576 - accuracy: 0.9471 - val_loss: 0.2869 - val_accuracy: 0.8806\n",
            "Epoch 14/50\n",
            "13/13 [==============================] - 6s 493ms/step - loss: 0.1543 - accuracy: 0.9399 - val_loss: 0.2699 - val_accuracy: 0.8881\n",
            "Epoch 15/50\n",
            "13/13 [==============================] - 6s 497ms/step - loss: 0.1772 - accuracy: 0.9375 - val_loss: 0.2772 - val_accuracy: 0.8806\n",
            "Epoch 16/50\n",
            "13/13 [==============================] - 7s 496ms/step - loss: 0.1493 - accuracy: 0.9591 - val_loss: 0.2378 - val_accuracy: 0.9179\n",
            "Epoch 17/50\n",
            "13/13 [==============================] - 6s 489ms/step - loss: 0.1379 - accuracy: 0.9543 - val_loss: 0.2036 - val_accuracy: 0.9403\n",
            "Epoch 18/50\n",
            "13/13 [==============================] - 6s 491ms/step - loss: 0.1170 - accuracy: 0.9615 - val_loss: 0.2254 - val_accuracy: 0.9179\n",
            "Epoch 19/50\n",
            "13/13 [==============================] - 6s 486ms/step - loss: 0.1209 - accuracy: 0.9639 - val_loss: 0.1925 - val_accuracy: 0.9403\n",
            "Epoch 20/50\n",
            "13/13 [==============================] - 6s 493ms/step - loss: 0.1248 - accuracy: 0.9567 - val_loss: 0.1871 - val_accuracy: 0.9328\n",
            "Epoch 21/50\n",
            "13/13 [==============================] - 6s 495ms/step - loss: 0.1051 - accuracy: 0.9688 - val_loss: 0.2014 - val_accuracy: 0.9104\n",
            "Epoch 22/50\n",
            "13/13 [==============================] - 6s 494ms/step - loss: 0.1070 - accuracy: 0.9760 - val_loss: 0.1908 - val_accuracy: 0.9328\n",
            "Epoch 23/50\n",
            "13/13 [==============================] - 6s 492ms/step - loss: 0.1167 - accuracy: 0.9736 - val_loss: 0.1704 - val_accuracy: 0.9328\n",
            "Epoch 24/50\n",
            "13/13 [==============================] - 6s 494ms/step - loss: 0.0960 - accuracy: 0.9712 - val_loss: 0.3342 - val_accuracy: 0.8433\n",
            "Epoch 25/50\n",
            "13/13 [==============================] - 6s 492ms/step - loss: 0.0906 - accuracy: 0.9736 - val_loss: 0.2115 - val_accuracy: 0.8955\n",
            "Epoch 26/50\n",
            "13/13 [==============================] - 7s 506ms/step - loss: 0.0870 - accuracy: 0.9760 - val_loss: 0.1599 - val_accuracy: 0.9478\n",
            "Epoch 27/50\n",
            "13/13 [==============================] - 6s 493ms/step - loss: 0.1119 - accuracy: 0.9688 - val_loss: 0.3650 - val_accuracy: 0.8507\n",
            "Epoch 28/50\n",
            "13/13 [==============================] - 6s 492ms/step - loss: 0.1135 - accuracy: 0.9615 - val_loss: 0.1622 - val_accuracy: 0.9403\n",
            "Epoch 29/50\n",
            "13/13 [==============================] - 6s 495ms/step - loss: 0.1319 - accuracy: 0.9591 - val_loss: 0.2293 - val_accuracy: 0.8806\n",
            "Epoch 30/50\n",
            "13/13 [==============================] - 6s 489ms/step - loss: 0.0916 - accuracy: 0.9712 - val_loss: 0.2859 - val_accuracy: 0.8657\n",
            "Epoch 31/50\n",
            "13/13 [==============================] - 6s 490ms/step - loss: 0.1181 - accuracy: 0.9663 - val_loss: 0.1542 - val_accuracy: 0.9403\n",
            "Epoch 32/50\n",
            "13/13 [==============================] - 6s 488ms/step - loss: 0.1104 - accuracy: 0.9639 - val_loss: 0.2193 - val_accuracy: 0.9030\n",
            "Epoch 33/50\n",
            "13/13 [==============================] - 6s 496ms/step - loss: 0.1015 - accuracy: 0.9639 - val_loss: 0.2338 - val_accuracy: 0.8881\n",
            "Epoch 34/50\n",
            "13/13 [==============================] - 6s 487ms/step - loss: 0.0743 - accuracy: 0.9760 - val_loss: 0.1910 - val_accuracy: 0.9179\n",
            "Epoch 35/50\n",
            "13/13 [==============================] - 6s 494ms/step - loss: 0.0810 - accuracy: 0.9688 - val_loss: 0.1577 - val_accuracy: 0.9254\n",
            "Epoch 36/50\n",
            "13/13 [==============================] - 6s 494ms/step - loss: 0.0630 - accuracy: 0.9880 - val_loss: 0.1443 - val_accuracy: 0.9403\n",
            "Epoch 37/50\n",
            "13/13 [==============================] - 6s 494ms/step - loss: 0.0782 - accuracy: 0.9760 - val_loss: 0.1831 - val_accuracy: 0.9179\n",
            "Epoch 38/50\n",
            "13/13 [==============================] - 7s 498ms/step - loss: 0.0750 - accuracy: 0.9808 - val_loss: 0.2130 - val_accuracy: 0.8881\n",
            "Epoch 39/50\n",
            "13/13 [==============================] - 6s 492ms/step - loss: 0.0567 - accuracy: 0.9856 - val_loss: 0.1971 - val_accuracy: 0.9104\n",
            "Epoch 40/50\n",
            "13/13 [==============================] - 6s 491ms/step - loss: 0.0604 - accuracy: 0.9832 - val_loss: 0.1940 - val_accuracy: 0.9179\n",
            "Epoch 41/50\n",
            "13/13 [==============================] - 6s 490ms/step - loss: 0.0730 - accuracy: 0.9856 - val_loss: 0.1638 - val_accuracy: 0.9403\n",
            "Epoch 42/50\n",
            "13/13 [==============================] - 8s 586ms/step - loss: 0.0671 - accuracy: 0.9904 - val_loss: 0.1482 - val_accuracy: 0.9627\n",
            "Epoch 43/50\n",
            "13/13 [==============================] - 6s 492ms/step - loss: 0.0724 - accuracy: 0.9856 - val_loss: 0.1480 - val_accuracy: 0.9328\n",
            "Epoch 44/50\n",
            "13/13 [==============================] - 7s 509ms/step - loss: 0.0563 - accuracy: 0.9832 - val_loss: 0.2576 - val_accuracy: 0.8582\n",
            "Epoch 45/50\n",
            "13/13 [==============================] - 7s 513ms/step - loss: 0.0617 - accuracy: 0.9808 - val_loss: 0.2295 - val_accuracy: 0.8731\n",
            "Epoch 46/50\n",
            "13/13 [==============================] - 7s 497ms/step - loss: 0.0533 - accuracy: 0.9832 - val_loss: 0.1556 - val_accuracy: 0.9403\n",
            "Epoch 47/50\n",
            "13/13 [==============================] - 6s 493ms/step - loss: 0.0482 - accuracy: 0.9856 - val_loss: 0.1674 - val_accuracy: 0.9328\n",
            "Epoch 48/50\n",
            "13/13 [==============================] - 6s 493ms/step - loss: 0.0548 - accuracy: 0.9904 - val_loss: 0.1699 - val_accuracy: 0.9254\n",
            "Epoch 49/50\n",
            "13/13 [==============================] - 6s 492ms/step - loss: 0.0486 - accuracy: 0.9976 - val_loss: 0.1741 - val_accuracy: 0.9179\n",
            "Epoch 50/50\n",
            "13/13 [==============================] - 6s 493ms/step - loss: 0.0526 - accuracy: 0.9880 - val_loss: 0.1298 - val_accuracy: 0.9403\n"
          ]
        }
      ]
    },
    {
      "cell_type": "code",
      "source": [
        "# plot the loss\n",
        "plt.plot(r.history['loss'], label='train loss')\n",
        "plt.plot(r.history['val_loss'], label='val loss')\n",
        "plt.legend()\n",
        "plt.show()\n",
        "plt.savefig('LossVal_loss')\n",
        "\n",
        "# plot the accuracy\n",
        "plt.plot(r.history['accuracy'], label='train acc')\n",
        "plt.plot(r.history['val_accuracy'], label='val acc')\n",
        "plt.legend()\n",
        "plt.show()\n",
        "plt.savefig('AccVal_acc')"
      ],
      "metadata": {
        "colab": {
          "base_uri": "https://localhost:8080/",
          "height": 530
        },
        "id": "8JJAPy3qDwYM",
        "outputId": "6342634d-b1dd-4958-c858-a5c19963cdcc"
      },
      "execution_count": null,
      "outputs": [
        {
          "output_type": "display_data",
          "data": {
            "text/plain": [
              "<Figure size 432x288 with 1 Axes>"
            ],
            "image/png": "[encoded data removed]"
          },
          "metadata": {
            "needs_background": "light"
          }
        },
        {
          "output_type": "display_data",
          "data": {
            "text/plain": [
              "<Figure size 432x288 with 1 Axes>"
            ],
            "image/png": "[encoded data removed]"
          },
          "metadata": {
            "needs_background": "light"
          }
        },
        {
          "output_type": "display_data",
          "data": {
            "text/plain": [
              "<Figure size 432x288 with 0 Axes>"
            ]
          },
          "metadata": {}
        }
      ]
    },
    {
      "cell_type": "code",
      "source": [
        "# save it as a h5 file\n",
        "\n",
        "import tensorflow as tf\n",
        "\n",
        "from keras.models import load_model\n",
        "\n",
        "model.save('model_vgg16.h5')"
      ],
      "metadata": {
        "id": "3oxp0bWCGzvd",
        "colab": {
          "base_uri": "https://localhost:8080/"
        },
        "outputId": "5d8b9a00-de67-4e4b-ec58-5d8397e418eb"
      },
      "execution_count": null,
      "outputs": [
        {
          "output_type": "stream",
          "name": "stdout",
          "text": [
            "INFO:tensorflow:Assets written to: model_vgg16.pkl/assets\n"
          ]
        }
      ]
    },
    {
      "cell_type": "code",
      "source": [
        "y_pred = model.predict(test_set)"
      ],
      "metadata": {
        "id": "NBWqmgw3HNo3"
      },
      "execution_count": null,
      "outputs": []
    },
    {
      "cell_type": "code",
      "source": [
        "y_pred"
      ],
      "metadata": {
        "colab": {
          "base_uri": "https://localhost:8080/"
        },
        "id": "yz_jGHnlHnJd",
        "outputId": "9276b63f-cced-4755-82ee-8faf3e268ccc"
      },
      "execution_count": null,
      "outputs": [
        {
          "output_type": "execute_result",
          "data": {
            "text/plain": [
              "array([[9.999707e-01, 2.931775e-05],\n",
              "       [2.105722e-01, 7.894279e-01],\n",
              "       [9.990056e-01, 9.944461e-04],\n",
              "       [9.995686e-01, 4.313347e-04],\n",
              "       ...,\n",
              "       [9.990839e-01, 9.161033e-04],\n",
              "       [9.778194e-01, 2.218056e-02],\n",
              "       [9.999714e-01, 2.865004e-05],\n",
              "       [7.672793e-02, 9.232721e-01]], dtype=float32)"
            ]
          },
          "metadata": {},
          "execution_count": 35
        }
      ]
    },
    {
      "cell_type": "code",
      "source": [
        "import numpy as np\n",
        "y_pred = np.argmax(y_pred, axis=1)"
      ],
      "metadata": {
        "id": "d9xuzr4dIAIN"
      },
      "execution_count": null,
      "outputs": []
    },
    {
      "cell_type": "code",
      "source": [
        "y_pred"
      ],
      "metadata": {
        "colab": {
          "base_uri": "https://localhost:8080/"
        },
        "id": "mNH2f0kWIHSc",
        "outputId": "bb4bcbb2-6a4d-4ea4-9640-06a9dd4c590f"
      },
      "execution_count": null,
      "outputs": [
        {
          "output_type": "execute_result",
          "data": {
            "text/plain": [
              "array([0, 1, 0, 0, ..., 0, 0, 0, 1])"
            ]
          },
          "metadata": {},
          "execution_count": 37
        }
      ]
    },
    {
      "cell_type": "code",
      "source": [
        "from tensorflow.keras.models import load_model\n",
        "from tensorflow.keras.preprocessing import image"
      ],
      "metadata": {
        "id": "Ll9Sy71kIJIs"
      },
      "execution_count": null,
      "outputs": []
    },
    {
      "cell_type": "code",
      "source": [
        "model=load_model('model_vgg16.h5')\n"
      ],
      "metadata": {
        "id": "DKLLbPhBIN9c"
      },
      "execution_count": null,
      "outputs": []
    },
    {
      "cell_type": "code",
      "source": [
        "img=image.load_img('/content/drive/MyDrive/Malaria_Detection/Dataset/Test/Uninfected/2.png',target_size=(224,224))"
      ],
      "metadata": {
        "id": "IW83DMD4ISkt"
      },
      "execution_count": null,
      "outputs": []
    },
    {
      "cell_type": "code",
      "source": [
        "x=image.img_to_array(img)\n",
        "x"
      ],
      "metadata": {
        "colab": {
          "base_uri": "https://localhost:8080/"
        },
        "id": "1xhHeGCwIeLc",
        "outputId": "e1a3720e-f289-436f-ec83-e834adb5230d"
      },
      "execution_count": null,
      "outputs": [
        {
          "output_type": "execute_result",
          "data": {
            "text/plain": [
              "array([[[0., 0., 0.],\n",
              "        [0., 0., 0.],\n",
              "        [0., 0., 0.],\n",
              "        [0., 0., 0.],\n",
              "        ...,\n",
              "        [0., 0., 0.],\n",
              "        [0., 0., 0.],\n",
              "        [0., 0., 0.],\n",
              "        [0., 0., 0.]],\n",
              "\n",
              "       [[0., 0., 0.],\n",
              "        [0., 0., 0.],\n",
              "        [0., 0., 0.],\n",
              "        [0., 0., 0.],\n",
              "        ...,\n",
              "        [0., 0., 0.],\n",
              "        [0., 0., 0.],\n",
              "        [0., 0., 0.],\n",
              "        [0., 0., 0.]],\n",
              "\n",
              "       [[0., 0., 0.],\n",
              "        [0., 0., 0.],\n",
              "        [0., 0., 0.],\n",
              "        [0., 0., 0.],\n",
              "        ...,\n",
              "        [0., 0., 0.],\n",
              "        [0., 0., 0.],\n",
              "        [0., 0., 0.],\n",
              "        [0., 0., 0.]],\n",
              "\n",
              "       [[0., 0., 0.],\n",
              "        [0., 0., 0.],\n",
              "        [0., 0., 0.],\n",
              "        [0., 0., 0.],\n",
              "        ...,\n",
              "        [0., 0., 0.],\n",
              "        [0., 0., 0.],\n",
              "        [0., 0., 0.],\n",
              "        [0., 0., 0.]],\n",
              "\n",
              "       ...,\n",
              "\n",
              "       [[0., 0., 0.],\n",
              "        [0., 0., 0.],\n",
              "        [0., 0., 0.],\n",
              "        [0., 0., 0.],\n",
              "        ...,\n",
              "        [0., 0., 0.],\n",
              "        [0., 0., 0.],\n",
              "        [0., 0., 0.],\n",
              "        [0., 0., 0.]],\n",
              "\n",
              "       [[0., 0., 0.],\n",
              "        [0., 0., 0.],\n",
              "        [0., 0., 0.],\n",
              "        [0., 0., 0.],\n",
              "        ...,\n",
              "        [0., 0., 0.],\n",
              "        [0., 0., 0.],\n",
              "        [0., 0., 0.],\n",
              "        [0., 0., 0.]],\n",
              "\n",
              "       [[0., 0., 0.],\n",
              "        [0., 0., 0.],\n",
              "        [0., 0., 0.],\n",
              "        [0., 0., 0.],\n",
              "        ...,\n",
              "        [0., 0., 0.],\n",
              "        [0., 0., 0.],\n",
              "        [0., 0., 0.],\n",
              "        [0., 0., 0.]],\n",
              "\n",
              "       [[0., 0., 0.],\n",
              "        [0., 0., 0.],\n",
              "        [0., 0., 0.],\n",
              "        [0., 0., 0.],\n",
              "        ...,\n",
              "        [0., 0., 0.],\n",
              "        [0., 0., 0.],\n",
              "        [0., 0., 0.],\n",
              "        [0., 0., 0.]]], dtype=float32)"
            ]
          },
          "metadata": {},
          "execution_count": 63
        }
      ]
    },
    {
      "cell_type": "code",
      "source": [
        "x.shape"
      ],
      "metadata": {
        "colab": {
          "base_uri": "https://localhost:8080/"
        },
        "id": "FQjRPuCKIgpt",
        "outputId": "d13acc1f-5228-46b7-edb0-03dac78c2e9a"
      },
      "execution_count": null,
      "outputs": [
        {
          "output_type": "execute_result",
          "data": {
            "text/plain": [
              "(224, 224, 3)"
            ]
          },
          "metadata": {},
          "execution_count": 64
        }
      ]
    },
    {
      "cell_type": "code",
      "source": [
        "x=x/255"
      ],
      "metadata": {
        "id": "G0aBfYAZImZe"
      },
      "execution_count": null,
      "outputs": []
    },
    {
      "cell_type": "code",
      "source": [
        "x=np.expand_dims(x,axis=0)\n",
        "img_data=preprocess_input(x)\n",
        "img_data.shape"
      ],
      "metadata": {
        "colab": {
          "base_uri": "https://localhost:8080/"
        },
        "id": "SM3SKGRcIoje",
        "outputId": "af88f4ac-d8ae-4297-efa0-3656c5946f0c"
      },
      "execution_count": null,
      "outputs": [
        {
          "output_type": "execute_result",
          "data": {
            "text/plain": [
              "(1, 224, 224, 3)"
            ]
          },
          "metadata": {},
          "execution_count": 66
        }
      ]
    },
    {
      "cell_type": "code",
      "source": [
        "model.predict(img_data)"
      ],
      "metadata": {
        "colab": {
          "base_uri": "https://localhost:8080/"
        },
        "id": "ryze7TanIqt-",
        "outputId": "620f9391-2362-4b6b-b3ac-d8f59caf6a4c"
      },
      "execution_count": null,
      "outputs": [
        {
          "output_type": "execute_result",
          "data": {
            "text/plain": [
              "array([[0.319, 0.681]], dtype=float32)"
            ]
          },
          "metadata": {},
          "execution_count": 70
        }
      ]
    },
    {
      "cell_type": "code",
      "source": [
        "a=np.argmax(model.predict(img_data), axis=1)"
      ],
      "metadata": {
        "id": "luQdHONjIsn-"
      },
      "execution_count": null,
      "outputs": []
    },
    {
      "cell_type": "code",
      "source": [
        "if(a==1):\n",
        "    print(\"Uninfected\")\n",
        "else:\n",
        "    print(\"Infected\")"
      ],
      "metadata": {
        "colab": {
          "base_uri": "https://localhost:8080/"
        },
        "id": "SOvDRECbIvf9",
        "outputId": "5114c1d5-6d1d-41e3-c63a-c0082f34dfd4"
      },
      "execution_count": null,
      "outputs": [
        {
          "output_type": "stream",
          "name": "stdout",
          "text": [
            "Uninfected\n"
          ]
        }
      ]
    },
    {
      "cell_type": "code",
      "source": [
        "img=image.load_img('/content/drive/MyDrive/Parasitized/C100P61ThinF_IMG_20150918_144104_cell_163.png',target_size=(224,224))"
      ],
      "metadata": {
        "id": "OzoeV5ZAIxht"
      },
      "execution_count": null,
      "outputs": []
    },
    {
      "cell_type": "code",
      "source": [
        "y=image.img_to_array(img)\n",
        "y"
      ],
      "metadata": {
        "colab": {
          "base_uri": "https://localhost:8080/"
        },
        "id": "DWoS66j9I58N",
        "outputId": "ad2ad371-8ebc-4499-b0dd-53c395bbc62b"
      },
      "execution_count": null,
      "outputs": [
        {
          "output_type": "execute_result",
          "data": {
            "text/plain": [
              "array([[[0., 0., 0.],\n",
              "        [0., 0., 0.],\n",
              "        [0., 0., 0.],\n",
              "        ...,\n",
              "        [0., 0., 0.],\n",
              "        [0., 0., 0.],\n",
              "        [0., 0., 0.]],\n",
              "\n",
              "       [[0., 0., 0.],\n",
              "        [0., 0., 0.],\n",
              "        [0., 0., 0.],\n",
              "        ...,\n",
              "        [0., 0., 0.],\n",
              "        [0., 0., 0.],\n",
              "        [0., 0., 0.]],\n",
              "\n",
              "       [[0., 0., 0.],\n",
              "        [0., 0., 0.],\n",
              "        [0., 0., 0.],\n",
              "        ...,\n",
              "        [0., 0., 0.],\n",
              "        [0., 0., 0.],\n",
              "        [0., 0., 0.]],\n",
              "\n",
              "       ...,\n",
              "\n",
              "       [[0., 0., 0.],\n",
              "        [0., 0., 0.],\n",
              "        [0., 0., 0.],\n",
              "        ...,\n",
              "        [0., 0., 0.],\n",
              "        [0., 0., 0.],\n",
              "        [0., 0., 0.]],\n",
              "\n",
              "       [[0., 0., 0.],\n",
              "        [0., 0., 0.],\n",
              "        [0., 0., 0.],\n",
              "        ...,\n",
              "        [0., 0., 0.],\n",
              "        [0., 0., 0.],\n",
              "        [0., 0., 0.]],\n",
              "\n",
              "       [[0., 0., 0.],\n",
              "        [0., 0., 0.],\n",
              "        [0., 0., 0.],\n",
              "        ...,\n",
              "        [0., 0., 0.],\n",
              "        [0., 0., 0.],\n",
              "        [0., 0., 0.]]], dtype=float32)"
            ]
          },
          "metadata": {},
          "execution_count": 61
        }
      ]
    },
    {
      "cell_type": "code",
      "source": [
        "y.shape"
      ],
      "metadata": {
        "colab": {
          "base_uri": "https://localhost:8080/"
        },
        "id": "AHt7t4eeI9aN",
        "outputId": "d42e176a-a042-4753-f4cc-768c67abad87"
      },
      "execution_count": null,
      "outputs": [
        {
          "output_type": "execute_result",
          "data": {
            "text/plain": [
              "(224, 224, 3)"
            ]
          },
          "metadata": {},
          "execution_count": 62
        }
      ]
    },
    {
      "cell_type": "code",
      "source": [
        "y=y/255"
      ],
      "metadata": {
        "id": "2CkylibjJBh9"
      },
      "execution_count": null,
      "outputs": []
    },
    {
      "cell_type": "code",
      "source": [
        "y=np.expand_dims(y,axis=0)\n",
        "images = np.vstack([y])\n",
        "images.shape"
      ],
      "metadata": {
        "colab": {
          "base_uri": "https://localhost:8080/"
        },
        "id": "4lsJduErJDb9",
        "outputId": "98d56cd2-9e8f-41f8-e6e1-8ed581928f8b"
      },
      "execution_count": null,
      "outputs": [
        {
          "output_type": "execute_result",
          "data": {
            "text/plain": [
              "(1, 224, 224, 3)"
            ]
          },
          "metadata": {},
          "execution_count": 64
        }
      ]
    },
    {
      "cell_type": "code",
      "source": [
        "model.predict(images,batch_size=32)"
      ],
      "metadata": {
        "colab": {
          "base_uri": "https://localhost:8080/"
        },
        "id": "WpT-o-hNJFjd",
        "outputId": "4bdb6fb8-c081-4667-b4d1-40e8901aa6b3"
      },
      "execution_count": null,
      "outputs": [
        {
          "output_type": "execute_result",
          "data": {
            "text/plain": [
              "array([[9.9999869e-01, 1.2670929e-06]], dtype=float32)"
            ]
          },
          "metadata": {},
          "execution_count": 65
        }
      ]
    },
    {
      "cell_type": "code",
      "source": [
        "model.predict(y)"
      ],
      "metadata": {
        "colab": {
          "base_uri": "https://localhost:8080/"
        },
        "id": "Ku-NabTJJH3d",
        "outputId": "2d60ce45-6be3-4037-ee45-2005847afca4"
      },
      "execution_count": null,
      "outputs": [
        {
          "output_type": "execute_result",
          "data": {
            "text/plain": [
              "array([[9.9999869e-01, 1.2670929e-06]], dtype=float32)"
            ]
          },
          "metadata": {},
          "execution_count": 66
        }
      ]
    },
    {
      "cell_type": "code",
      "source": [
        "a=model.predict(images,batch_size=32)"
      ],
      "metadata": {
        "id": "ZXW4U6YSJazL"
      },
      "execution_count": null,
      "outputs": []
    },
    {
      "cell_type": "code",
      "source": [
        "a=np.argmax(model.predict(images,batch_size=32), axis=1)\n",
        "print(a)"
      ],
      "metadata": {
        "colab": {
          "base_uri": "https://localhost:8080/"
        },
        "id": "XV8fAOY5ecQL",
        "outputId": "663c25e9-9761-4ee8-b53d-dc8171fd0ccc"
      },
      "execution_count": null,
      "outputs": [
        {
          "output_type": "stream",
          "name": "stdout",
          "text": [
            "[0]\n"
          ]
        }
      ]
    },
    {
      "cell_type": "code",
      "source": [
        "if a==1 :\n",
        "    print(\"Uninfected\")\n",
        "else:\n",
        "    print(\"Infected\")"
      ],
      "metadata": {
        "colab": {
          "base_uri": "https://localhost:8080/"
        },
        "id": "mxVvvXHvJgyc",
        "outputId": "2a0ec1a7-ca10-496a-8187-5791707c7991"
      },
      "execution_count": null,
      "outputs": [
        {
          "output_type": "stream",
          "name": "stdout",
          "text": [
            "Infected\n"
          ]
        }
      ]
    }
  ]
}